{
 "cells": [
  {
   "cell_type": "code",
   "execution_count": 1,
   "metadata": {},
   "outputs": [
    {
     "name": "stdout",
     "output_type": "stream",
     "text": [
      "<module 'pandas' from 'C:\\\\Users\\\\adamo\\\\anaconda3\\\\lib\\\\site-packages\\\\pandas\\\\__init__.py'>\n",
      "<module 'matplotlib.pyplot' from 'C:\\\\Users\\\\adamo\\\\anaconda3\\\\lib\\\\site-packages\\\\matplotlib\\\\pyplot.py'>\n"
     ]
    }
   ],
   "source": [
    "#NOTE: ONLY WORKS WITH COMPANIES THAT ARE REPORTING A POSITIVE EPS\n",
    "#ADEMOLA ADAM ASIMOLOWO\n",
    " \n",
    "import pandas as pd\n",
    "import matplotlib.pyplot as plotter\n",
    "print(pd)\n",
    "print(plotter)\n",
    "\n",
    "    \n",
    "intrinsicvaluedf = pd.read_csv(\"intristicvaluesheet.csv\")\n",
    "intrinsicvaluedf['Intrinsic Value'] = None\n",
    "\n",
    "\n"
   ]
  },
  {
   "cell_type": "code",
   "execution_count": 2,
   "metadata": {
    "scrolled": true
   },
   "outputs": [
    {
     "name": "stdout",
     "output_type": "stream",
     "text": [
      "-4.714755242466051\n",
      "------------APPLE ANALYSIS---------------\n",
      "\n",
      "Intrinsic Value of APPLE is 478.55\n",
      "Current Price of APPLE is 502.23\n",
      "Therefore, APPLE is overvalued\n",
      "\n",
      "BUY / SELL\n",
      "SELL OR DON'T ENTER\n",
      "\n",
      "Margin Safety Price: 358.91\n",
      "Downside: -4.71 %\n"
     ]
    },
    {
     "name": "stderr",
     "output_type": "stream",
     "text": [
      "C:\\Users\\adamo\\anaconda3\\lib\\site-packages\\ipykernel_launcher.py:8: SettingWithCopyWarning: \n",
      "A value is trying to be set on a copy of a slice from a DataFrame\n",
      "\n",
      "See the caveats in the documentation: https://pandas.pydata.org/pandas-docs/stable/user_guide/indexing.html#returning-a-view-versus-a-copy\n",
      "  \n"
     ]
    }
   ],
   "source": [
    "\n",
    "\n",
    "\n",
    "\n",
    "#Method #1\n",
    "\n",
    "def get_intrinsicvalue(ticker):\n",
    "    \n",
    "\n",
    "    for i in intrinsicvaluedf.index:\n",
    "        if intrinsicvaluedf.iloc[:, 0][i] == ticker:\n",
    "            \n",
    "            intrinsic_value = (intrinsicvaluedf.iloc[:,1][i]*(intrinsicvaluedf.iloc[:,2][i] + (intrinsicvaluedf.iloc[:,4][i] * intrinsicvaluedf.iloc[:,3][i])) * intrinsicvaluedf.iloc[:,5][i])/(intrinsicvaluedf.iloc[:,6][i])\n",
    "            intrinsicvaluedf.iloc[:,9][i] = intrinsic_value\n",
    "        \n",
    "            #marginp = intrinsic price x margin safety % \n",
    "            num = intrinsicvaluedf.iloc[:, 9][i] * intrinsicvaluedf.iloc[:, 7][i]\n",
    "            margin_safety_price = intrinsicvaluedf.iloc[:, 9][i] - num             \n",
    "           \n",
    "            \n",
    "            #upside/downside potential intrisicvalue/current price\n",
    "            upside_downside = ((intrinsic_value/intrinsicvaluedf.iloc[:, 8][i])-1) * 100\n",
    "            print(upside_downside)\n",
    "            \n",
    "            print(\"------------\" + ticker + \" ANALYSIS---------------\\n\")\n",
    "            \n",
    "            \n",
    "            print(\"Intrinsic Value of \" + ticker + \" is {val:1.2f}\".format(val = intrinsic_value))\n",
    "            print(\"Current Price of \" + ticker + \" is {}\".format( intrinsicvaluedf.iloc[:,8][i]))\n",
    "           \n",
    "            \n",
    "            if intrinsicvaluedf.iloc[:,9][i] > intrinsicvaluedf.iloc[:, 8][i]:\n",
    "                print(\"Therefore, \" + ticker + \" is undervalued\")\n",
    "                print(\"\\nBUY / SELL\\nBUY\")\n",
    "                if intrinsicvaluedf.iloc[:,8][i] < margin_safety_price:\n",
    "                    print(\"TIME TO LOAD UP\")\n",
    "                \n",
    "            else:\n",
    "                print(\"Therefore, \" + ticker + \" is overvalued\")\n",
    "                print(\"\\nBUY / SELL\\nSELL OR DON'T ENTER\")\n",
    "           \n",
    "    \n",
    "            \n",
    "            print(\"\\nMargin Safety Price: {r:1.2f}\".format(r = margin_safety_price))\n",
    "            if upside_downside > 0:\n",
    "                print(\"Upside: {ud:1.2f} %\".format(ud = upside_downside))\n",
    "            else:\n",
    "                print(\"Downside: {ud:1.2f} %\".format(ud = upside_downside))\n",
    "        \n",
    "get_intrinsicvalue(\"APPLE\")\n",
    "\n",
    "\n",
    "\n"
   ]
  },
  {
   "cell_type": "code",
   "execution_count": 3,
   "metadata": {
    "scrolled": true
   },
   "outputs": [
    {
     "name": "stdout",
     "output_type": "stream",
     "text": [
      "24.04696753114155\n",
      "------------VISA ANALYSIS---------------\n",
      "\n",
      "Intrinsic Value of VISA is 226.51\n",
      "Current Price of VISA is 182.6\n",
      "Therefore, VISA is undervalued\n",
      "\n",
      "BUY / SELL\n",
      "BUY\n",
      "\n",
      "Margin Safety Price: 169.88\n",
      "Upside: 24.05 %\n"
     ]
    },
    {
     "name": "stderr",
     "output_type": "stream",
     "text": [
      "C:\\Users\\adamo\\anaconda3\\lib\\site-packages\\ipykernel_launcher.py:8: SettingWithCopyWarning: \n",
      "A value is trying to be set on a copy of a slice from a DataFrame\n",
      "\n",
      "See the caveats in the documentation: https://pandas.pydata.org/pandas-docs/stable/user_guide/indexing.html#returning-a-view-versus-a-copy\n",
      "  \n"
     ]
    }
   ],
   "source": [
    "get_intrinsicvalue(\"VISA\")\n"
   ]
  },
  {
   "cell_type": "code",
   "execution_count": 4,
   "metadata": {},
   "outputs": [
    {
     "name": "stdout",
     "output_type": "stream",
     "text": [
      "-45.85388940576836\n",
      "------------AMD ANALYSIS---------------\n",
      "\n",
      "Intrinsic Value of AMD is 45.37\n",
      "Current Price of AMD is 83.8\n",
      "Therefore, AMD is overvalued\n",
      "\n",
      "BUY / SELL\n",
      "SELL OR DON'T ENTER\n",
      "\n",
      "Margin Safety Price: 34.03\n",
      "Downside: -45.85 %\n"
     ]
    },
    {
     "name": "stderr",
     "output_type": "stream",
     "text": [
      "C:\\Users\\adamo\\anaconda3\\lib\\site-packages\\ipykernel_launcher.py:8: SettingWithCopyWarning: \n",
      "A value is trying to be set on a copy of a slice from a DataFrame\n",
      "\n",
      "See the caveats in the documentation: https://pandas.pydata.org/pandas-docs/stable/user_guide/indexing.html#returning-a-view-versus-a-copy\n",
      "  \n"
     ]
    }
   ],
   "source": [
    "get_intrinsicvalue(\"AMD\")\n"
   ]
  },
  {
   "cell_type": "code",
   "execution_count": 5,
   "metadata": {},
   "outputs": [
    {
     "name": "stdout",
     "output_type": "stream",
     "text": [
      "-78.83777239709443\n",
      "------------ALK ANALYSIS---------------\n",
      "\n",
      "Intrinsic Value of ALK is 8.15\n",
      "Current Price of ALK is 38.5\n",
      "Therefore, ALK is overvalued\n",
      "\n",
      "BUY / SELL\n",
      "SELL OR DON'T ENTER\n",
      "\n",
      "Margin Safety Price: 6.11\n",
      "Downside: -78.84 %\n"
     ]
    },
    {
     "name": "stderr",
     "output_type": "stream",
     "text": [
      "C:\\Users\\adamo\\anaconda3\\lib\\site-packages\\ipykernel_launcher.py:8: SettingWithCopyWarning: \n",
      "A value is trying to be set on a copy of a slice from a DataFrame\n",
      "\n",
      "See the caveats in the documentation: https://pandas.pydata.org/pandas-docs/stable/user_guide/indexing.html#returning-a-view-versus-a-copy\n",
      "  \n"
     ]
    }
   ],
   "source": [
    "get_intrinsicvalue(\"ALK\")\n"
   ]
  },
  {
   "cell_type": "code",
   "execution_count": 6,
   "metadata": {
    "scrolled": true
   },
   "outputs": [
    {
     "data": {
      "text/html": [
       "<div>\n",
       "<style scoped>\n",
       "    .dataframe tbody tr th:only-of-type {\n",
       "        vertical-align: middle;\n",
       "    }\n",
       "\n",
       "    .dataframe tbody tr th {\n",
       "        vertical-align: top;\n",
       "    }\n",
       "\n",
       "    .dataframe thead th {\n",
       "        text-align: right;\n",
       "    }\n",
       "</style>\n",
       "<table border=\"1\" class=\"dataframe\">\n",
       "  <thead>\n",
       "    <tr style=\"text-align: right;\">\n",
       "      <th></th>\n",
       "      <th>Stock</th>\n",
       "      <th>EPS</th>\n",
       "      <th>P/E</th>\n",
       "      <th>Growth Rate</th>\n",
       "      <th>1g</th>\n",
       "      <th>Corporate Bond</th>\n",
       "      <th>AAA Bond Yield</th>\n",
       "      <th>Margin Safety</th>\n",
       "      <th>Current Price</th>\n",
       "      <th>Intrinsic Value</th>\n",
       "    </tr>\n",
       "  </thead>\n",
       "  <tbody>\n",
       "    <tr>\n",
       "      <th>0</th>\n",
       "      <td>APPLE</td>\n",
       "      <td>13.19</td>\n",
       "      <td>7</td>\n",
       "      <td>12.46</td>\n",
       "      <td>1</td>\n",
       "      <td>4.4</td>\n",
       "      <td>2.36</td>\n",
       "      <td>0.25</td>\n",
       "      <td>502.23</td>\n",
       "      <td>478.551</td>\n",
       "    </tr>\n",
       "    <tr>\n",
       "      <th>1</th>\n",
       "      <td>VISA</td>\n",
       "      <td>5.48</td>\n",
       "      <td>7</td>\n",
       "      <td>15.17</td>\n",
       "      <td>1</td>\n",
       "      <td>4.4</td>\n",
       "      <td>2.36</td>\n",
       "      <td>0.25</td>\n",
       "      <td>182.60</td>\n",
       "      <td>226.51</td>\n",
       "    </tr>\n",
       "    <tr>\n",
       "      <th>2</th>\n",
       "      <td>AMD</td>\n",
       "      <td>0.51</td>\n",
       "      <td>7</td>\n",
       "      <td>40.72</td>\n",
       "      <td>1</td>\n",
       "      <td>4.4</td>\n",
       "      <td>2.36</td>\n",
       "      <td>0.25</td>\n",
       "      <td>83.80</td>\n",
       "      <td>45.3744</td>\n",
       "    </tr>\n",
       "    <tr>\n",
       "      <th>3</th>\n",
       "      <td>ALK</td>\n",
       "      <td>0.46</td>\n",
       "      <td>7</td>\n",
       "      <td>2.50</td>\n",
       "      <td>1</td>\n",
       "      <td>4.4</td>\n",
       "      <td>2.36</td>\n",
       "      <td>0.25</td>\n",
       "      <td>38.50</td>\n",
       "      <td>8.14746</td>\n",
       "    </tr>\n",
       "  </tbody>\n",
       "</table>\n",
       "</div>"
      ],
      "text/plain": [
       "   Stock    EPS  P/E  Growth Rate  1g  Corporate Bond  AAA Bond Yield  \\\n",
       "0  APPLE  13.19    7        12.46   1             4.4            2.36   \n",
       "1   VISA   5.48    7        15.17   1             4.4            2.36   \n",
       "2    AMD   0.51    7        40.72   1             4.4            2.36   \n",
       "3    ALK   0.46    7         2.50   1             4.4            2.36   \n",
       "\n",
       "   Margin Safety  Current Price Intrinsic Value  \n",
       "0           0.25         502.23         478.551  \n",
       "1           0.25         182.60          226.51  \n",
       "2           0.25          83.80         45.3744  \n",
       "3           0.25          38.50         8.14746  "
      ]
     },
     "execution_count": 6,
     "metadata": {},
     "output_type": "execute_result"
    }
   ],
   "source": [
    "intrinsicvaluedf.tail()\n",
    "\n",
    "\n",
    "#intrinsicvaluedf.to_csv('UpdatedIntrinsicValue.csv')\n",
    "\n"
   ]
  },
  {
   "cell_type": "code",
   "execution_count": 7,
   "metadata": {},
   "outputs": [
    {
     "data": {
      "text/plain": [
       "Text(0.5, 1.0, 'Current Price vs Intrinsic Value')"
      ]
     },
     "execution_count": 7,
     "metadata": {},
     "output_type": "execute_result"
    },
    {
     "data": {
      "image/png": "[encoded data removed]",
      "text/plain": [
       "<Figure size 432x288 with 1 Axes>"
      ]
     },
     "metadata": {
      "needs_background": "light"
     },
     "output_type": "display_data"
    }
   ],
   "source": [
    "import numpy as np\n",
    "\n",
    "\n",
    "#X = intrinsicvaluedf['Stock']\n",
    "X = np.arange(4)\n",
    "Y = (intrinsicvaluedf['Current Price'])\n",
    "Z = (intrinsicvaluedf['Intrinsic Value']) \n",
    "\n",
    "ax1 = plotter.bar(intrinsicvaluedf['Stock'], Y, color = \"r\", width = .3)\n",
    "ax2 = plotter.bar(X + 0.301, Z , color = \"g\", width = .3)\n",
    "\n",
    "plotter.xlabel(\"Stock\", fontsize = 12)\n",
    "plotter.ylabel(\"Value\", fontsize = 12)\n",
    "plotter.title(\"Current Price vs Intrinsic Value\")\n",
    "\n",
    "\n",
    "#If the intrinsic value of a stock is greater than the market value of the stock, \n",
    "#an intrinsic value investor will look at it as an opportunity and buy the stock at its current market value in expectation of gain. The investor expects gain because it is believed that the market will keep correcting itself by incorporating more information as and when public. \n",
    "#Therefore the market price tends to move towards the intrinsic value.\n",
    "\n",
    "#Current Price = Red\n",
    "#Intrinsic Value = Green"
   ]
  },
  {
   "cell_type": "code",
   "execution_count": null,
   "metadata": {},
   "outputs": [],
   "source": []
  }
 ],
 "metadata": {
  "kernelspec": {
   "display_name": "Python 3",
   "language": "python",
   "name": "python3"
  },
  "language_info": {
   "codemirror_mode": {
    "name": "ipython",
    "version": 3
   },
   "file_extension": ".py",
   "mimetype": "text/x-python",
   "name": "python",
   "nbconvert_exporter": "python",
   "pygments_lexer": "ipython3",
   "version": "3.7.6"
  }
 },
 "nbformat": 4,
 "nbformat_minor": 4
}
